{
 "cells": [
  {
   "cell_type": "markdown",
   "metadata": {},
   "source": [
    "# S(q,$\\omega$) for confluent layer of MDCK cells\n",
    "\n",
    "Movie from [T.E. Angelini *et al*, Cell Migration Driven by Cooperative Substrate Deformation Patterns, PRL (2010)](https://journals.aps.org/prl/abstract/10.1103/PhysRevLett.104.168104), Supplemental Material: compressed_cell_motion.avi\n",
    "\n",
    "Converted the images to grayscale and an image sequence of tiffs\n",
    "\n",
    "Attempting to replicate the $S(q,\\omega)$ found in [T.E. Angelini *et al*, Glass-like dynamics of collective cell migration, PNAS (2011)](http://www.pnas.org/content/108/12/4714.abstract).\n"
   ]
  },
  {
   "cell_type": "code",
   "execution_count": 1,
   "metadata": {
    "collapsed": false
   },
   "outputs": [
    {
     "ename": "SyntaxError",
     "evalue": "invalid syntax (sqw.py, line 180)",
     "output_type": "error",
     "traceback": [
      "\u001b[0;36m  File \u001b[0;32m\"/Users/Danny/llm/dynamicstructurefactor/dynamicstructurefactor/sqw.py\"\u001b[0;36m, line \u001b[0;32m180\u001b[0m\n\u001b[0;31m    if\u001b[0m\n\u001b[0m       ^\u001b[0m\n\u001b[0;31mSyntaxError\u001b[0m\u001b[0;31m:\u001b[0m invalid syntax\n"
     ]
    }
   ],
   "source": [
    "import matplotlib as mpl\n",
    "import matplotlib.pyplot as plt\n",
    "# let matplotlib plot interactively in notebook\n",
    "%matplotlib notebook\n",
    "\n",
    "# Tweak styles\n",
    "# mpl.rc('figure', figsize=(10,6))\n",
    "mpl.rc('image',cmap='inferno')\n",
    "\n",
    "import numpy as np\n",
    "import scipy.integrate as integrate\n",
    "\n",
    "import pims\n",
    "import dynamicstructurefactor.sqw as sqw\n",
    "\n",
    "savestuff = False\n",
    "\n",
    "# Need some info of movies to get scales right\n",
    "dt = 1 # one minute per frame\n",
    "dx = 1.55 # 1.55 um/pixel\n",
    "\n",
    "frames = pims.ImageSequence('compressed_cell_motion_frames/*.tif',as_grey=True)\n",
    "frames"
   ]
  },
  {
   "cell_type": "code",
   "execution_count": null,
   "metadata": {
    "collapsed": false,
    "scrolled": true
   },
   "outputs": [],
   "source": [
    "frameArray = sqw.image2array(frames)\n",
    "framePSpec, [ww, qx, qy] = sqw.powerSpectrum(frameArray, spacings=[dx, dx, dt])\n",
    "\n",
    "# Set up grid in fourier space\n",
    "# [nqx, nqy, nw] = framePSpec.shape\n",
    "# qx = 2*np.pi*np.fft.fftshift(np.fft.fftfreq(nqx, dx))\n",
    "# qy = 2*np.pi*np.fft.fftshift(np.fft.fftfreq(nqy, dx))\n",
    "# ww = 2*np.pi*np.fft.fftshift(np.fft.fftfreq(nw,  dt))"
   ]
  },
  {
   "cell_type": "code",
   "execution_count": null,
   "metadata": {
    "collapsed": false
   },
   "outputs": [],
   "source": [
    "ww.size"
   ]
  },
  {
   "cell_type": "markdown",
   "metadata": {},
   "source": [
    "Take a look at the spatial power spectrum"
   ]
  },
  {
   "cell_type": "code",
   "execution_count": null,
   "metadata": {
    "collapsed": false
   },
   "outputs": [],
   "source": [
    "fig1, ax1 = plt.subplots(1,1)\n",
    "randw = int(np.floor(np.random.rand()*ww.size))\n",
    "cax1 = ax1.pcolor(qx, qy, framePSpec[randw,...])\n",
    "ax1.set_xlabel('$q_x \\; (rad/\\mu m)$')\n",
    "ax1.set_ylabel('$q_y \\; (rad/\\mu m)$')\n",
    "ax1.set_title('$|\\mathcal{F}|^2(q_x, q_y)$, at $\\omega$ = ' + str(randw) + ' rad/min')\n",
    "\n",
    "cbar = fig1.colorbar(cax1)\n",
    "\n",
    "if savestuff:\n",
    "    fig1.savefig('2DPowerSpectrum.eps', format = 'eps')\n",
    "    fig1.savefig('2DPowerSpectrum.tif', format = 'tif')"
   ]
  },
  {
   "cell_type": "markdown",
   "metadata": {},
   "source": [
    "Take a look at some slice of the temporal fourier transform"
   ]
  },
  {
   "cell_type": "code",
   "execution_count": null,
   "metadata": {
    "collapsed": false
   },
   "outputs": [],
   "source": [
    "fig2, ax2 = plt.subplots(1,1)\n",
    "randqx = int(np.floor(np.random.rand()*nqx))\n",
    "randqy = int(np.floor(np.random.rand()*nqy))\n",
    "\n",
    "ax2.plot(ww,framePSpec[randqx,randqy,:])\n",
    "ax2.set_xlabel('$\\omega \\; (rad/min)$')\n",
    "ax2.set_ylabel('$|\\mathcal{F}|^2$')\n",
    "ax2.set_title('$|\\mathcal{F}|^2 (\\omega)$ at $(q_x, q_y) = ($' + str(randqx) + ', ' + str(randqy) + ')')\n",
    "\n",
    "if savestuff:\n",
    "    fig2.savefig('randomOmegaSeries.eps', format = 'eps')\n",
    "    fig2.savefig('randomOmegaSeries.tif', format = 'tif')"
   ]
  },
  {
   "cell_type": "markdown",
   "metadata": {},
   "source": [
    "Perform azimuthal averaging and plot the resulting 2D spectrum"
   ]
  },
  {
   "cell_type": "code",
   "execution_count": null,
   "metadata": {
    "collapsed": false,
    "scrolled": true
   },
   "outputs": [],
   "source": [
    "aziAvg = sqw.azimuthalAverage3D(framePSpec)"
   ]
  },
  {
   "cell_type": "code",
   "execution_count": null,
   "metadata": {
    "collapsed": false
   },
   "outputs": [],
   "source": [
    "aziAvgOneSided = aziAvg[int(np.floor(nw/2)):-1,:]\n",
    "qxOneSided = np.fft.ifftshift(qx)[:int(np.floor(qx.size/2))]\n",
    "wwOneSided = np.fft.ifftshift(ww)[:int(np.floor(ww.size/2))]\n",
    "\n",
    "fig3, ax3 = plt.subplots(1,1)\n",
    "cax3 = ax3.pcolor(qxOneSided, wwOneSided, aziAvgOneSided[:wwOneSided.size, :qxOneSided.size])\n",
    "ax3.set_xlabel('|q| (rad/$\\mu$m)')\n",
    "ax3.set_ylabel('$\\omega$ (rad/min)')\n",
    "ax3.set_title('$S(q,\\omega)$, Angelini MDCK cells')\n",
    "\n",
    "cbar = fig3.colorbar(cax3)\n",
    "\n",
    "if savestuff:\n",
    "    fig3.savefig('radialAvgSQW.eps', format = 'eps')\n",
    "    fig3.savefig('radialAvgSQW.tif', format = 'tif')"
   ]
  },
  {
   "cell_type": "markdown",
   "metadata": {},
   "source": [
    "Erm... not quite sure what to make of that.. Looks nothing like the S(q,$\\omega$) in Angelini's PNAS paper. Looking for zeros at low *q* and high $\\omega$..\n",
    "\n",
    "I'm willing to bet that what needs to be done is subtracting the average intensity over all time and space to get rid of the huge peak at zero and actually see the real differences along the q and $\\omega$"
   ]
  },
  {
   "cell_type": "code",
   "execution_count": null,
   "metadata": {
    "collapsed": false
   },
   "outputs": [],
   "source": [
    "frameArray_meanSub = np.ndarray.astype(frameArray, float) - frameArray.mean()\n",
    "framePSpec = sqw.powerSpectrum(frameArray_meanSub, norm = False)"
   ]
  },
  {
   "cell_type": "code",
   "execution_count": null,
   "metadata": {
    "collapsed": false
   },
   "outputs": [],
   "source": [
    "fig, ax = plt.subplots(1,1)\n",
    "\n",
    "cax1 = ax.pcolor(qx,qy,framePSpec[:,:,randw])\n",
    "ax.set_xlabel('$q_x \\; (rad/\\mu m)$')\n",
    "ax.set_ylabel('$q_y \\; (rad/\\mu m)$')\n",
    "ax.set_title('Mean Subtracted $|\\mathcal{F}|^2(q_x, q_y)$, at $\\omega$ = ' + str(randw) + ' rad/min')\n",
    "\n",
    "cbar = fig.colorbar(cax1)\n",
    "\n",
    "if savestuff:\n",
    "    fig1.savefig('2DPowerSpectrum_meanSub.eps', format = 'eps')\n",
    "    fig1.savefig('2DPowerSpectrum_meanSub.tif', format = 'tif')"
   ]
  },
  {
   "cell_type": "code",
   "execution_count": null,
   "metadata": {
    "collapsed": false
   },
   "outputs": [],
   "source": [
    "# On second thought, I don't know what information this whole thing really gives us...\n",
    "\n",
    "# fig4, ax4 =  plt.subplots(3,3)\n",
    "\n",
    "# ax4[0,0].plot(framePSpec[1,1,:])\n",
    "# t = ax4[0,0].yaxis.get_offset_text()\n",
    "# t.set_x(-0.5)\n",
    "# ax4[0,0].set_title('$(q_x,q_y)=$' + str(qxArr[1]) + ',' + str(qyArr[1]))\n",
    "\n",
    "# ax4[0,1].plot(framePSpec[200,1,:])\n",
    "# ax4[0,1].set_title(str(qxArr[200]) + ',' + str(qyArr[1]))\n",
    "\n",
    "# ax4[0,2].plot(framePSpec[400,1,:])\n",
    "# ax4[0,2].set_title(str(qxArr[400]) + ',' + str(qyArr[1]))\n",
    "\n",
    "# ax4[1,0].plot(framePSpec[1,200,:])\n",
    "# ax4[1,0].set_title(str(qxArr[1])   + ',' + str(qyArr[200]))\n",
    "\n",
    "# ax4[1,1].plot(framePSpec[200,200,:])\n",
    "# ax4[1,1].set_title(str(qxArr[200]) + ',' + str(qyArr[200]))\n",
    "\n",
    "# ax4[1,2].plot(framePSpec[400,200,:])\n",
    "# ax4[1,2].set_title(str(qxArr[400]) + ',' + str(qyArr[200]))\n",
    "\n",
    "# ax4[2,0].plot(framePSpec[1,400,:])\n",
    "# ax4[2,0].set_title(str(qxArr[1])   + ',' + str(qyArr[400]))\n",
    "\n",
    "# ax4[2,1].plot(framePSpec[200,400,:])\n",
    "# ax4[2,1].set_title(str(qxArr[200]) + ',' + str(qyArr[400]))\n",
    "\n",
    "# ax4[2,2].plot(framePSpec[400,400,:])\n",
    "# ax4[2,2].set_title(str(qxArr[400]) + ',' + str(qyArr[400]))\n",
    "\n",
    "# fig4.subplots_adjust(hspace = 0.5, wspace = 0.5)\n",
    "# fig4.suptitle('$\\omega$ slices')"
   ]
  },
  {
   "cell_type": "code",
   "execution_count": null,
   "metadata": {
    "collapsed": false
   },
   "outputs": [],
   "source": [
    "aziAvg = sqw.azimuthalAverage3D(framePSpec, tdim=2)"
   ]
  },
  {
   "cell_type": "code",
   "execution_count": null,
   "metadata": {
    "collapsed": false
   },
   "outputs": [],
   "source": [
    "aziAvgOneSided = aziAvg[int(np.floor(nw/2)):-1,:]\n",
    "    \n",
    "fig5, ax5 = plt.subplots(1,1)\n",
    "cax5 = ax5.pcolor(qxOneSided, wwOneSided, aziAvgOneSided[:wwOneSided.size, :qxOneSided.size])\n",
    "ax5.set_xlabel('|q| (rad/$\\mu$m)')\n",
    "ax5.set_ylabel('$\\omega$ (rad/min)')\n",
    "ax5.set_title('$S(q,\\omega)$, Angelini MDCK cells')\n",
    "\n",
    "cbar = fig5.colorbar(cax5)\n",
    "\n",
    "if savestuff:\n",
    "    fig5.savefig('radialAvgSQW_meanSub.eps', format = 'eps')\n",
    "    fig5.savefig('radialAvgSQW_meanSub.tif', format = 'tif')"
   ]
  },
  {
   "cell_type": "markdown",
   "metadata": {
    "collapsed": true
   },
   "source": [
    "So.. no difference\n",
    "\n",
    "Let's try to divide by S(q) to get some better scales here.\n",
    "\n",
    "$$ S(q) = \\frac{1}{2 \\pi} \\int\\limits_{-\\infty}^{\\infty} \\; d \\omega \\;  S(q,\\omega) $$"
   ]
  },
  {
   "cell_type": "code",
   "execution_count": null,
   "metadata": {
    "collapsed": false
   },
   "outputs": [],
   "source": [
    "sofcue = integrate.trapz(aziAvg, ww, axis=0)\n",
    "\n",
    "sofcueFig, sofcueAx = plt.subplots()\n",
    "sofcueAx.plot(sofcue)\n",
    "sofcueAx.set_xlabel('$q \\; (rad/\\mu m)$')\n",
    "sofcueAx.set_ylabel('$S(q)$')\n",
    "sofcueAx.set_title('Static Structure Factor')\n",
    "\n",
    "if savestuff:\n",
    "    sofcueFig.savefig('sofq.eps',format = 'eps')\n",
    "    sofcueFig.savefig('sofq.tif',format = 'tif')"
   ]
  },
  {
   "cell_type": "code",
   "execution_count": null,
   "metadata": {
    "collapsed": false
   },
   "outputs": [],
   "source": [
    "normed = aziAvg/sofcue[:,None].T"
   ]
  },
  {
   "cell_type": "markdown",
   "metadata": {
    "collapsed": true
   },
   "source": [
    "Quick excursion into using plotly's heatmap to maybe add some more interactivity into this..."
   ]
  },
  {
   "cell_type": "code",
   "execution_count": null,
   "metadata": {
    "collapsed": false
   },
   "outputs": [],
   "source": [
    "oneSidedNormed = normed[int(np.floor(170/2)):-1,:]\n",
    "\n",
    "trace = go.Heatmap(z = oneSidedNormed[1:wwOneSided.size, 1:qxOneSided.size],\n",
    "                  x = qxOneSided[1:],\n",
    "                  y = wwOneSided[1:])\n",
    "data = [trace]\n",
    "layout = go.Layout(\n",
    "    xaxis = dict(\n",
    "        title = 'q (rad/um)',\n",
    "        titlefont = dict(\n",
    "            family = 'Helvetica, sans-serif',\n",
    "            color = 'black')),\n",
    "    yaxis = dict(\n",
    "        title = 'w (rad/min)',\n",
    "        titlefont = dict(\n",
    "            family = 'Helvetica, sans-serif')))\n",
    "\n",
    "\n",
    "heatMapFig = go.Figure(data=data, layout=layout)\n",
    "iplot(heatMapFig, filename = 'S(q,w)/S(q)')"
   ]
  },
  {
   "cell_type": "code",
   "execution_count": null,
   "metadata": {
    "collapsed": false
   },
   "outputs": [],
   "source": [
    "heatFig, heatAx = plt.subplots(1,1)\n",
    "caxHeat = heatAx.pcolor(np.log(oneSidedNormed))\n",
    "\n",
    "heatAx.set_xlabel('|q|')\n",
    "heatAx.set_ylabel('$\\omega$')\n",
    "heatAx.set_title('$\\log(S(q,\\omega)/S(q))$, Angelini MDCK cells')\n",
    "heatAx.set_xlim(0,150)\n",
    "\n",
    "cbarNormed = heatFig.colorbar(caxHeat)\n",
    "cbarNormed.set_clim(vmax = 0.05)\n",
    "\n",
    "if savestuff:\n",
    "    heatFig.savefig('logNormedSQW.eps',format='eps')\n",
    "    heatFig.savefig('logNormedSQW.tif',format='tif')"
   ]
  },
  {
   "cell_type": "code",
   "execution_count": null,
   "metadata": {
    "collapsed": false
   },
   "outputs": [],
   "source": [
    "heatFig, heatAx = plt.subplots(1,1)\n",
    "caxHeat = heatAx.pcolor(qxOneSided[1:], wwOneSided[1:],\n",
    "                        2*(oneSidedNormed[1:wwOneSided.size, 1:qxOneSided.size]), vmax=1.5)\n",
    "\n",
    "heatAx.set_xlabel('|q|')\n",
    "heatAx.set_ylabel('$\\omega$')\n",
    "heatAx.set_title('$S(q,\\omega)/S(q)$, Angelini MDCK cells')\n",
    "#heatAx.set_xlim(0,150)\n",
    "\n",
    "cbarNormed = heatFig.colorbar(caxHeat,extend='max')\n",
    "#cbarNormed.set_clim(vmax = 1.0)\n",
    "#cbarNormed.set_ticks([0.0,0.02,0.04,0.06,0.08,0.1])\n",
    "\n",
    "if savestuff:\n",
    "    heatFig.savefig('NormedSQW_highContrast.eps',format='eps')\n",
    "    heatFig.savefig('NormedSQW_highContrast.tif',format='tif')"
   ]
  },
  {
   "cell_type": "code",
   "execution_count": null,
   "metadata": {
    "collapsed": true
   },
   "outputs": [],
   "source": [
    "np.savetxt('normedSQW.txt', normed, header = 'S(q,w)/S(q) for Angelini data')\n",
    "np.savetxt('qArray.txt', qxOneSided, header = 'Wave vectors for Angelini data')\n",
    "np.savetxt('wArray.txt', ww, header = 'Frequencies for Angelini data')\n",
    "np.savetxt('sqw.txt', aziAvg, header = 'Azimuthally averaged S(q,w) for Angelini data')"
   ]
  },
  {
   "cell_type": "markdown",
   "metadata": {
    "collapsed": true
   },
   "source": [
    "Okay great! This gives something that look WAY better. And doesn't need to be logged in order to see the structure inherent in there.\n",
    "\n",
    "I do seem to be off in scale for this, but that could be a question about normalizations that I need to be more careful about, multiplying by 2 in getting the one sided power spectral density, etc. I think these are questions that are better left for a later date, and it's time to try and see if we get anything interesting for the real stuff."
   ]
  }
 ],
 "metadata": {
  "kernelspec": {
   "display_name": "Python 3",
   "language": "python",
   "name": "python3"
  },
  "language_info": {
   "codemirror_mode": {
    "name": "ipython",
    "version": 3
   },
   "file_extension": ".py",
   "mimetype": "text/x-python",
   "name": "python",
   "nbconvert_exporter": "python",
   "pygments_lexer": "ipython3",
   "version": "3.6.0"
  }
 },
 "nbformat": 4,
 "nbformat_minor": 2
}
