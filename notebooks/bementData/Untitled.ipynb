{
 "cells": [
  {
   "cell_type": "code",
   "execution_count": 1,
   "metadata": {
    "collapsed": false
   },
   "outputs": [
    {
     "data": {
      "text/html": [
       "<script>requirejs.config({paths: { 'plotly': ['https://cdn.plot.ly/plotly-latest.min']},});if(!window.Plotly) {{require(['plotly'],function(plotly) {window.Plotly=plotly;});}}</script>"
      ],
      "text/vnd.plotly.v1+html": [
       "<script>requirejs.config({paths: { 'plotly': ['https://cdn.plot.ly/plotly-latest.min']},});if(!window.Plotly) {{require(['plotly'],function(plotly) {window.Plotly=plotly;});}}</script>"
      ]
     },
     "metadata": {},
     "output_type": "display_data"
    },
    {
     "name": "stdout",
     "output_type": "stream",
     "text": [
      "AVG_071714ect2-001.xml - C=0.tif\n"
     ]
    }
   ],
   "source": [
    "import os\n",
    "import matplotlib as mpl\n",
    "import matplotlib.pyplot as plt\n",
    "# let matplotlib plot interactively in notebook\n",
    "%matplotlib notebook\n",
    "\n",
    "# Tweak styles\n",
    "#mpl.rc('figure', figsize=(10,6))\n",
    "mpl.rc('image',cmap='inferno')\n",
    "\n",
    "#Plotly stuff\n",
    "import plotly.plotly as py\n",
    "import plotly.graph_objs as go\n",
    "import plotly.tools as tls\n",
    "from plotly.offline import download_plotlyjs, init_notebook_mode, plot, iplot\n",
    "init_notebook_mode(connected=True)\n",
    "\n",
    "import numpy as np\n",
    "import scipy.integrate as integrate\n",
    "\n",
    "import pims\n",
    "import dynamicStructureFactor.sqw as sqw\n",
    "\n",
    "savestuff = False\n",
    "\n",
    "import glob\n",
    "bementDataPath = '/media/daniel/storage1/Dropbox/Excitable wounds for Mike and Ian/'\n",
    "movieNames = glob.glob('AVG*')\n",
    "\n",
    "n = 16 # Which movie?\n",
    "\n",
    "if not os.path.exists(movieNames[n]+'/post/2dpowerspec') and savestuff:\n",
    "    os.makedirs(movieNames[n]+'/post/2dpowerspec')\n",
    "\n",
    "frameArray = pims.open(bementDataPath + movieNames[n])[0]\n",
    "# note that opening a tif stack automatically gives an array of shape (t, x, y)\n",
    "#frames[0]\n",
    "print(movieNames[n])"
   ]
  },
  {
   "cell_type": "code",
   "execution_count": 2,
   "metadata": {
    "collapsed": true
   },
   "outputs": [],
   "source": [
    "# Need some info of movies to get scales right\n",
    "dt = 1 # one second per frame (a complete guess right now)\n",
    "dx = 0.1922 # um/pixel, from scale in image uploaded above\n",
    "\n",
    "firstWithWound  = 120 # First frame with wound\n",
    "firstAfterWound = 290 # First frame when \"steady state\" is reached\n",
    "                      # This is arbitrarily chosen by eye...\n",
    "\n",
    "#preFrameArray  = frameArray[:firstWithWound, :, :]\n",
    "#postFrameArray = frameArray[firstAfterWound:, :, :]\n",
    "\n",
    "#frameArray = frameArray[firstAfterWound:, :, :] # Set cut of movie if neeed\n",
    "\n",
    "# note that opening a tif stack automatically gives an array of shape\n",
    "# (t, x, y)\n",
    "[nt, nx, ny] = frameArray.shape\n",
    "#nt = frames[-1].frame_no+1\n",
    "\n",
    "# Set up coordinate system in Fourier Space\n",
    "qx = 2*np.pi*np.fft.fftshift(np.fft.fftfreq(nx, dx))\n",
    "qy = 2*np.pi*np.fft.fftshift(np.fft.fftfreq(ny, dx))\n",
    "ww = 2*np.pi*np.fft.fftshift(np.fft.fftfreq(nt, dt))"
   ]
  },
  {
   "cell_type": "code",
   "execution_count": null,
   "metadata": {
    "collapsed": true
   },
   "outputs": [],
   "source": []
  },
  {
   "cell_type": "code",
   "execution_count": null,
   "metadata": {
    "collapsed": true
   },
   "outputs": [],
   "source": [
    "#frameArray = sqw.image2array(frames)\n",
    "frameArray = np.ndarray.astype(frameArray, float) - frameArray.mean()\n",
    "framePSpec = sqw.powerSpectrum(frameArray, norm = True)"
   ]
  }
 ],
 "metadata": {
  "kernelspec": {
   "display_name": "Python 3",
   "language": "python",
   "name": "python3"
  },
  "language_info": {
   "codemirror_mode": {
    "name": "ipython",
    "version": 3
   },
   "file_extension": ".py",
   "mimetype": "text/x-python",
   "name": "python",
   "nbconvert_exporter": "python",
   "pygments_lexer": "ipython3",
   "version": "3.6.0"
  }
 },
 "nbformat": 4,
 "nbformat_minor": 2
}
