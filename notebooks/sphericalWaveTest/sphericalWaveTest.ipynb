{
 "cells": [
  {
   "cell_type": "markdown",
   "metadata": {},
   "source": [
    "First test the sqw stuff on something I know I'll understand, a spherical wave.\n",
    "\n",
    "The wave will have the following functional form:\n",
    "$$ f(r,t) = \\sin(k_0 r + \\omega_0 t) $$\n",
    "\n",
    "The Fourier transform of isa delta function in frequency, $\\delta(\\omega-\\omega_0)$, but in space it's a bit harder. I thought it would just be a delta function in space, $\\delta(|\\vec{k}| - k_0)$, but it turns out to involve an integral over a Bessel Function of the first kind. Specifically:\n",
    "\n",
    "$$ \\int\\limits_0^{\\infty} \\; dr \\; r J_0(kr) e^{ik_0 r} $$\n",
    "\n",
    "So we don't really get zero signal in the $\\omega$ direction."
   ]
  },
  {
   "cell_type": "code",
   "execution_count": 1,
   "metadata": {
    "collapsed": false
   },
   "outputs": [],
   "source": [
    "import matplotlib.pyplot as plt\n",
    "%matplotlib notebook\n",
    "\n",
    "import numpy as np\n",
    "import scipy.integrate as integrate\n",
    "import dynamicstructurefactor.sqw as sqw\n",
    "\n",
    "savestuff = False\n",
    "\n",
    "# Set up parameters\n",
    "xmax = 50 # Maximum index in either direction\n",
    "ymax = 50\n",
    "nt = 50 # number of time points\n",
    "dx = .1 # spacing between measured points\n",
    "dy = .1 \n",
    "dt = .01 # time between each time point\n",
    "\n",
    "xArr = np.linspace(-xmax, xmax, 2 * xmax + 1)\n",
    "yArr = np.linspace(-ymax, ymax, 2 * ymax + 1)\n",
    "tArr = np.linspace(0, nt - 1, nt)\n",
    "\n",
    "# Set up grid in real space, remembering to multiply by the \n",
    "# sampling periods in time and space\n",
    "xx,yy,tt = np.meshgrid(yArr * dy, xArr * dx, tArr * dt)\n",
    "\n",
    "# Spatial and temporal frequency (in radians/length or time)\n",
    "k0 = 10\n",
    "w0 = 100\n",
    "\n",
    "# Center offset\n",
    "x0 = 0 * dx\n",
    "y0 = 0 * dy"
   ]
  },
  {
   "cell_type": "code",
   "execution_count": 2,
   "metadata": {
    "collapsed": false,
    "scrolled": false
   },
   "outputs": [
    {
     "ename": "ValueError",
     "evalue": "too many values to unpack (expected 2)",
     "output_type": "error",
     "traceback": [
      "\u001b[0;31m---------------------------------------------------------------------------\u001b[0m",
      "\u001b[0;31mValueError\u001b[0m                                Traceback (most recent call last)",
      "\u001b[0;32m<ipython-input-2-9896cf7401bf>\u001b[0m in \u001b[0;36m<module>\u001b[0;34m()\u001b[0m\n\u001b[1;32m      4\u001b[0m \u001b[0;31m# Function and its power spectrum\u001b[0m\u001b[0;34m\u001b[0m\u001b[0;34m\u001b[0m\u001b[0m\n\u001b[1;32m      5\u001b[0m \u001b[0mrt\u001b[0m \u001b[0;34m=\u001b[0m \u001b[0mnp\u001b[0m\u001b[0;34m.\u001b[0m\u001b[0msin\u001b[0m\u001b[0;34m(\u001b[0m\u001b[0mk0\u001b[0m\u001b[0;34m*\u001b[0m\u001b[0;34m(\u001b[0m\u001b[0mnp\u001b[0m\u001b[0;34m.\u001b[0m\u001b[0msqrt\u001b[0m\u001b[0;34m(\u001b[0m\u001b[0;34m(\u001b[0m\u001b[0;34m(\u001b[0m\u001b[0mxx\u001b[0m\u001b[0;34m-\u001b[0m\u001b[0mx0\u001b[0m\u001b[0;34m)\u001b[0m\u001b[0;34m)\u001b[0m\u001b[0;34m**\u001b[0m\u001b[0;36m2\u001b[0m \u001b[0;34m+\u001b[0m \u001b[0;34m(\u001b[0m\u001b[0;34m(\u001b[0m\u001b[0myy\u001b[0m\u001b[0;34m-\u001b[0m\u001b[0my0\u001b[0m\u001b[0;34m)\u001b[0m\u001b[0;34m)\u001b[0m\u001b[0;34m**\u001b[0m\u001b[0;36m2\u001b[0m\u001b[0;34m)\u001b[0m\u001b[0;34m)\u001b[0m \u001b[0;34m+\u001b[0m \u001b[0mw0\u001b[0m\u001b[0;34m*\u001b[0m\u001b[0mtt\u001b[0m\u001b[0;34m)\u001b[0m \u001b[0;34m+\u001b[0m \u001b[0mnp\u001b[0m\u001b[0;34m.\u001b[0m\u001b[0msin\u001b[0m\u001b[0;34m(\u001b[0m\u001b[0;36m2\u001b[0m\u001b[0;34m*\u001b[0m\u001b[0mk0\u001b[0m\u001b[0;34m*\u001b[0m\u001b[0;34m(\u001b[0m\u001b[0mnp\u001b[0m\u001b[0;34m.\u001b[0m\u001b[0msqrt\u001b[0m\u001b[0;34m(\u001b[0m\u001b[0;34m(\u001b[0m\u001b[0;34m(\u001b[0m\u001b[0mxx\u001b[0m\u001b[0;34m-\u001b[0m\u001b[0mx0\u001b[0m\u001b[0;34m)\u001b[0m\u001b[0;34m)\u001b[0m\u001b[0;34m**\u001b[0m\u001b[0;36m2\u001b[0m \u001b[0;34m+\u001b[0m \u001b[0;34m(\u001b[0m\u001b[0;34m(\u001b[0m\u001b[0myy\u001b[0m\u001b[0;34m-\u001b[0m\u001b[0my0\u001b[0m\u001b[0;34m)\u001b[0m\u001b[0;34m)\u001b[0m\u001b[0;34m**\u001b[0m\u001b[0;36m2\u001b[0m\u001b[0;34m)\u001b[0m\u001b[0;34m)\u001b[0m \u001b[0;34m+\u001b[0m \u001b[0;36m0.25\u001b[0m\u001b[0;34m*\u001b[0m\u001b[0mw0\u001b[0m\u001b[0;34m*\u001b[0m\u001b[0mtt\u001b[0m\u001b[0;34m)\u001b[0m\u001b[0;34m\u001b[0m\u001b[0m\n\u001b[0;32m----> 6\u001b[0;31m \u001b[0mqwPower\u001b[0m\u001b[0;34m,\u001b[0m \u001b[0;34m[\u001b[0m\u001b[0mqx\u001b[0m\u001b[0;34m,\u001b[0m \u001b[0mqy\u001b[0m\u001b[0;34m,\u001b[0m \u001b[0mww\u001b[0m\u001b[0;34m]\u001b[0m \u001b[0;34m=\u001b[0m \u001b[0msqw\u001b[0m\u001b[0;34m.\u001b[0m\u001b[0mpowerSpectrum\u001b[0m\u001b[0;34m(\u001b[0m\u001b[0mrt\u001b[0m\u001b[0;34m,\u001b[0m \u001b[0;34m[\u001b[0m\u001b[0mdy\u001b[0m\u001b[0;34m,\u001b[0m\u001b[0mdx\u001b[0m\u001b[0;34m,\u001b[0m\u001b[0mdt\u001b[0m\u001b[0;34m]\u001b[0m\u001b[0;34m)\u001b[0m\u001b[0;34m\u001b[0m\u001b[0m\n\u001b[0m\u001b[1;32m      7\u001b[0m \u001b[0;34m\u001b[0m\u001b[0m\n\u001b[1;32m      8\u001b[0m \u001b[0mfig\u001b[0m\u001b[0;34m,\u001b[0m\u001b[0max\u001b[0m \u001b[0;34m=\u001b[0m \u001b[0mplt\u001b[0m\u001b[0;34m.\u001b[0m\u001b[0msubplots\u001b[0m\u001b[0;34m(\u001b[0m\u001b[0;36m1\u001b[0m\u001b[0;34m,\u001b[0m\u001b[0;36m2\u001b[0m\u001b[0;34m)\u001b[0m\u001b[0;34m\u001b[0m\u001b[0m\n",
      "\u001b[0;31mValueError\u001b[0m: too many values to unpack (expected 2)"
     ]
    }
   ],
   "source": [
    "# Save stuff?\n",
    "#savestuff = True\n",
    "\n",
    "# Function and its power spectrum\n",
    "rt = np.sin(k0*(np.sqrt(((xx-x0))**2 + ((yy-y0))**2)) + w0*tt) + np.sin(2*k0*(np.sqrt(((xx-x0))**2 + ((yy-y0))**2)) + 0.25*w0*tt)\n",
    "qwPower, [qx, qy, ww] = sqw.powerSpectrum(rt, [dy,dx,dt])\n",
    "\n",
    "fig,ax = plt.subplots(1,2)\n",
    "\n",
    "# Get an idea of what this looks like. There's a .gif of the full animation in this folder\n",
    "ax[0].pcolor(xArr,yArr,rt[:,:, 25], cmap= 'gray')\n",
    "ax[0].set_aspect('equal')\n",
    "ax[0].set_xlabel('x')\n",
    "ax[0].set_ylabel('y')\n",
    "ax[0].set_title('Real space signal')\n",
    "\n",
    "ax[1].pcolor(qx, qy, qwPower[:,:,25], cmap = 'gray')\n",
    "ax[1].set_aspect('equal')\n",
    "ax[1].set_xlabel('$q_x$')\n",
    "ax[1].set_ylabel('$q_y$')\n",
    "ax[1].set_title('Fourier space signal')\n",
    "\n",
    "fig.subplots_adjust(wspace = 0.3)\n",
    "fig.suptitle('$f(r,t) = \\sin ($' + str(k0) + 'r + ' + str(w0) + 't)')\n",
    "\n",
    "if savestuff:\n",
    "    for ii in range(0,nt):\n",
    "        fig,ax = plt.subplots(1,2)\n",
    "\n",
    "        ax[0].pcolor(xArr,yArr,rt[:,:, ii], cmap= 'gray')\n",
    "        ax[0].set_aspect('equal')\n",
    "        ax[0].set_xlabel('x')\n",
    "        ax[0].set_ylabel('y')\n",
    "        ax[0].set_title('Real space signal, t = ' + str(dt*ii))\n",
    "\n",
    "        ax[1].pcolor(2*np.pi*qx, 2*np.pi*qy, qwPower[:,:,ii], cmap = 'gray')\n",
    "        ax[1].set_aspect('equal')\n",
    "        ax[1].set_xlabel('$q_x$')\n",
    "        ax[1].set_ylabel('$q_y$')\n",
    "        ax[1].set_title('Fourier space signal, $\\omega = $' + str(ww[ii]))\n",
    "\n",
    "        fig.subplots_adjust(wspace = 0.3)\n",
    "        fig.suptitle('$f(r,t) = \\sin ($' + str(k0) + 'r + ' + str(w0) + 't)')\n",
    "        \n",
    "        fig.savefig('frames2/frame_'+str(ii)+'.png',format='png')\n",
    "        plt.clf()"
   ]
  },
  {
   "cell_type": "markdown",
   "metadata": {},
   "source": [
    "First let's take a look at what we're analyzing"
   ]
  },
  {
   "cell_type": "code",
   "execution_count": null,
   "metadata": {
    "collapsed": false,
    "scrolled": true
   },
   "outputs": [],
   "source": [
    "qwPowerRadialAvg = sqw.azimuthalAverage3D(qwPower, tdim=2)\n",
    "[nw, nqr] = qwPowerRadialAvg.shape\n",
    "#qr = np.fft.fftfreq(2*nqr, np.sqrt(dx**2+dy**2))"
   ]
  },
  {
   "cell_type": "code",
   "execution_count": null,
   "metadata": {
    "collapsed": false
   },
   "outputs": [],
   "source": [
    "# Save stuff?\n",
    "#savestuff = True\n",
    "\n",
    "qxOneSided = np.fft.ifftshift(qx)[:int(np.floor(qx.size/2))]\n",
    "wwOneSided = np.fft.ifftshift(ww)[:int(np.floor(ww.size/2))]\n",
    "\n",
    "fig2, ax2 = plt.subplots(1,1)\n",
    "oneSidedPower = qwPowerRadialAvg[25:-1,:]\n",
    "\n",
    "sphericalSQW = ax2.pcolor(qxOneSided,wwOneSided,\n",
    "                          oneSidedPower[:wwOneSided.size, :qxOneSided.size], cmap='inferno')\n",
    "ax2.set_xlabel('|q|')\n",
    "ax2.set_ylabel('$\\omega$')\n",
    "ax2.set_title('$S(q,\\omega)$ of $f(r,t) = \\sin ($' + str(k0) + 'r + ' + str(w0) + 't)')\n",
    "\n",
    "cbar = fig2.colorbar(sphericalSQW)\n",
    "\n",
    "if savestuff:\n",
    "    fig2.savefig('sqw_sphericalWave.tif',format='tif')\n",
    "    fig2.savefig('sqw_sphericalWave.eps',format='eps')\n",
    "#     fig2.savefig('sqw_offset.tif',format='tif')\n",
    "#     fig2.savefig('sqw_offset.eps',format='eps')"
   ]
  },
  {
   "cell_type": "markdown",
   "metadata": {},
   "source": [
    "Okay, overall seems good. I'm a little unclear as to why the spatial component is smeared out a bit...\n",
    "\n",
    "Update 7/11/2017: It's smeared out due to edge/corner effects, where the signal can't be described by a pure sine wave.\n",
    "\n",
    "The single peak really gives the wave speeds here too, using a linear dispersion relation: $\\omega = v q$"
   ]
  },
  {
   "cell_type": "markdown",
   "metadata": {},
   "source": [
    "Normalize by $S(q)$ and look at $S(q,\\omega)/S(q)$ to show it removes the signal along $q$"
   ]
  },
  {
   "cell_type": "code",
   "execution_count": null,
   "metadata": {
    "collapsed": false,
    "scrolled": false
   },
   "outputs": [],
   "source": [
    "sofcue = integrate.trapz(qwPowerRadialAvg, ww, axis=0)\n",
    "\n",
    "normed = qwPowerRadialAvg/sofcue[:,None].T\n",
    "\n",
    "fig, ax = plt.subplots()\n",
    "ax.pcolor(qx[:72], ww, normed)\n"
   ]
  },
  {
   "cell_type": "code",
   "execution_count": null,
   "metadata": {
    "collapsed": true
   },
   "outputs": [],
   "source": []
  }
 ],
 "metadata": {
  "kernelspec": {
   "display_name": "Python 3",
   "language": "python",
   "name": "python3"
  },
  "language_info": {
   "codemirror_mode": {
    "name": "ipython",
    "version": 3
   },
   "file_extension": ".py",
   "mimetype": "text/x-python",
   "name": "python",
   "nbconvert_exporter": "python",
   "pygments_lexer": "ipython3",
   "version": "3.6.0"
  }
 },
 "nbformat": 4,
 "nbformat_minor": 2
}
