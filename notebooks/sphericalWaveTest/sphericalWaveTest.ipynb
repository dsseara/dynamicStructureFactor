{
 "cells": [
  {
   "cell_type": "markdown",
   "metadata": {},
   "source": [
    "First test the sqw stuff on something I know I'll understand, a spherical wave.\n",
    "\n",
    "The wave will have the following functional form:\n",
    "$$ f(r,t) = \\sin(k_0 r + \\omega_0 t) $$\n",
    "\n",
    "The Fourier transform of isa delta function in frequency, $\\delta(\\omega-\\omega_0)$, but in space it's a bit harder. I thought it would just be a delta function in space, $\\delta(|\\vec{k}| - k_0)$, but it turns out to involve an integral over a Bessel Function of the first kind. Specifically:\n",
    "\n",
    "$$ \\int\\limits_0^{\\infty} \\; dr \\; r J_0(kr) e^{ik_0 r} $$\n",
    "\n",
    "So we don't really get zero signal in the $\\omega$ direction."
   ]
  },
  {
   "cell_type": "code",
   "execution_count": 1,
   "metadata": {
    "collapsed": true
   },
   "outputs": [],
   "source": [
    "import matplotlib.pyplot as plt\n",
    "%matplotlib notebook\n",
    "\n",
    "import numpy as np\n",
    "import scipy.integrate as integrate\n",
    "import dynamicstructurefactor.sqw as sqw\n",
    "import os"
   ]
  },
  {
   "cell_type": "code",
   "execution_count": 2,
   "metadata": {
    "collapsed": false
   },
   "outputs": [],
   "source": [
    "savestuff = False\n",
    "savepath = '/media/daniel/storage1/Dropbox/LLM_Danny/excitableMembranes/sphericalWaveTest/'\n",
    "\n",
    "# Set up parameters\n",
    "xmax = 25  # total distance in physical units\n",
    "ymax = 25\n",
    "tmax = 100\n",
    "nx = 250  # total number of pixels across\n",
    "ny = 250\n",
    "nt = 100\n",
    "dx = xmax / nx  # sampling spacing\n",
    "dy = ymax / ny\n",
    "dt = tmax / nt \n",
    "\n",
    "xArr = np.linspace(-xmax/2, xmax/2, nx)\n",
    "yArr = np.linspace(-ymax/2, ymax/2, ny)\n",
    "tArr = np.linspace(0, tmax, nt)\n",
    "\n",
    "# Set up grid in real space, remembering to multiply by the \n",
    "# sampling periods in time and space\n",
    "tt,xx,yy = np.meshgrid(tArr, xArr, yArr, indexing='ij')\n",
    "\n",
    "# Spatial and temporal frequency (in radians/length or time)\n",
    "lambda0 = 2*np.pi/10\n",
    "k0 = 2*np.pi / lambda0\n",
    "T0 = 10\n",
    "w0 = 2*np.pi / T0\n",
    "lambda1 = 15\n",
    "k1 = 2*np.pi / lambda1\n",
    "T1 = 4\n",
    "w1 = 2*np.pi / T1\n",
    "\n",
    "# Center offset\n",
    "x0 = 0 * dx\n",
    "y0 = 0 * dy\n",
    "x1 = 0 * dx\n",
    "y1 = 0 * dy"
   ]
  },
  {
   "cell_type": "markdown",
   "metadata": {},
   "source": [
    "Enter the functional form to analyze and get it's power spectrum"
   ]
  },
  {
   "cell_type": "code",
   "execution_count": 4,
   "metadata": {
    "collapsed": false
   },
   "outputs": [
    {
     "ename": "TypeError",
     "evalue": "can't multiply sequence by non-int of type 'list'",
     "output_type": "error",
     "traceback": [
      "\u001b[0;31m---------------------------------------------------------------------------\u001b[0m",
      "\u001b[0;31mTypeError\u001b[0m                                 Traceback (most recent call last)",
      "\u001b[0;32m<ipython-input-4-e5bc84bc8653>\u001b[0m in \u001b[0;36m<module>\u001b[0;34m()\u001b[0m\n\u001b[1;32m      5\u001b[0m qwPower, [qx, qy, ww] = sqw.welchn(rt, \n\u001b[1;32m      6\u001b[0m                                    \u001b[0mfs\u001b[0m\u001b[0;34m=\u001b[0m\u001b[0;34m[\u001b[0m\u001b[0mdy\u001b[0m\u001b[0;34m,\u001b[0m\u001b[0mdx\u001b[0m\u001b[0;34m,\u001b[0m\u001b[0mdt\u001b[0m\u001b[0;34m]\u001b[0m\u001b[0;34m,\u001b[0m\u001b[0;34m\u001b[0m\u001b[0m\n\u001b[0;32m----> 7\u001b[0;31m                                    window='hanning')#,\n\u001b[0m\u001b[1;32m      8\u001b[0m \u001b[0;31m#                                    return_onesided=False,\u001b[0m\u001b[0;34m\u001b[0m\u001b[0;34m\u001b[0m\u001b[0m\n\u001b[1;32m      9\u001b[0m \u001b[0;31m#                                    normalize=False)\u001b[0m\u001b[0;34m\u001b[0m\u001b[0;34m\u001b[0m\u001b[0m\n",
      "\u001b[0;32m/Users/Danny/llm/dynamicstructurefactor/dynamicstructurefactor/sqw.py\u001b[0m in \u001b[0;36mwelchn\u001b[0;34m(data, fs, nperseg, noverlap, window, return_onesided, scaling, detrend, nfft)\u001b[0m\n\u001b[1;32m    224\u001b[0m     \u001b[0;31m# Set scaling\u001b[0m\u001b[0;34m\u001b[0m\u001b[0;34m\u001b[0m\u001b[0m\n\u001b[1;32m    225\u001b[0m     \u001b[0;32mif\u001b[0m \u001b[0mscaling\u001b[0m \u001b[0;34m==\u001b[0m \u001b[0;34m'density'\u001b[0m\u001b[0;34m:\u001b[0m\u001b[0;34m\u001b[0m\u001b[0m\n\u001b[0;32m--> 226\u001b[0;31m         \u001b[0mscale\u001b[0m \u001b[0;34m=\u001b[0m \u001b[0;36m1.0\u001b[0m \u001b[0;34m/\u001b[0m \u001b[0;34m(\u001b[0m\u001b[0mfs\u001b[0m \u001b[0;34m*\u001b[0m \u001b[0;34m(\u001b[0m\u001b[0mwin\u001b[0m \u001b[0;34m*\u001b[0m \u001b[0mwin\u001b[0m\u001b[0;34m)\u001b[0m\u001b[0;34m.\u001b[0m\u001b[0msum\u001b[0m\u001b[0;34m(\u001b[0m\u001b[0;34m)\u001b[0m\u001b[0;34m)\u001b[0m\u001b[0;34m\u001b[0m\u001b[0m\n\u001b[0m\u001b[1;32m    227\u001b[0m     \u001b[0;32melif\u001b[0m \u001b[0mscaling\u001b[0m \u001b[0;34m==\u001b[0m \u001b[0;34m'spectrum'\u001b[0m\u001b[0;34m:\u001b[0m\u001b[0;34m\u001b[0m\u001b[0m\n\u001b[1;32m    228\u001b[0m         \u001b[0mscale\u001b[0m \u001b[0;34m=\u001b[0m \u001b[0;36m1.0\u001b[0m \u001b[0;34m/\u001b[0m \u001b[0mwin\u001b[0m\u001b[0;34m.\u001b[0m\u001b[0msum\u001b[0m\u001b[0;34m(\u001b[0m\u001b[0;34m)\u001b[0m\u001b[0;34m**\u001b[0m\u001b[0;36m2\u001b[0m\u001b[0;34m\u001b[0m\u001b[0m\n",
      "\u001b[0;31mTypeError\u001b[0m: can't multiply sequence by non-int of type 'list'"
     ]
    }
   ],
   "source": [
    "# Function and its power spectrum\n",
    "r0 = ((xx-x0)**2 + (yy-y0)**2)**0.5\n",
    "r1 = ((xx-x1)**2 + (yy-y1)**2)**0.5\n",
    "rt = np.sin(k0*r0 - w0*tt) + np.sin(k1*r1 + w1*tt)\n",
    "qwPower, [qx, qy, ww] = sqw.welchn(rt, \n",
    "                                   fs=1/np.array([dt, dx, dy]),\n",
    "                                   window='hanning')#,\n",
    "#                                    return_onesided=False,\n",
    "#                                    normalize=False)"
   ]
  },
  {
   "cell_type": "code",
   "execution_count": null,
   "metadata": {
    "collapsed": false
   },
   "outputs": [],
   "source": [
    "qy.max()"
   ]
  },
  {
   "cell_type": "markdown",
   "metadata": {},
   "source": [
    "Plot the resulting power spectrum in both the real and fourier domain"
   ]
  },
  {
   "cell_type": "code",
   "execution_count": null,
   "metadata": {
    "collapsed": false,
    "scrolled": true
   },
   "outputs": [],
   "source": [
    "fig,ax = plt.subplots(1,2)\n",
    "\n",
    "# Get an idea of what this looks like. There's a .gif of the full animation in this folder\n",
    "ax[0].pcolor(xArr,yArr,rt[:,:, 25], cmap= 'gray')\n",
    "ax[0].set_aspect('equal')\n",
    "ax[0].set_xlabel('x')\n",
    "ax[0].set_ylabel('y')\n",
    "ax[0].set_title('Real space signal')\n",
    "\n",
    "ax[1].pcolor(qx, qy, qwPower[:,:,25], cmap = 'gray')\n",
    "ax[1].set_aspect('equal')\n",
    "ax[1].set_xlabel('$q_x$')\n",
    "ax[1].set_ylabel('$q_y$')\n",
    "ax[1].set_title('Fourier space signal')\n",
    "\n",
    "fig.subplots_adjust(wspace = 0.3)\n",
    "fig.suptitle('$f(r,t) = \\sin ($' + str(k0) + 'r + ' + str(w0) + 't) + $\\sin($' + str(k1) + 'r + ' + str(w1) + 't)')\n",
    "\n",
    "savestuff=1\n",
    "if savestuff:\n",
    "    if not os.path.exists(os.path.join(savepath, 'frames')): os.mkdir(os.path.join(savepath, 'frames'))\n",
    "    for ii in range(0,nt):\n",
    "        fig,ax = plt.subplots(1,2)\n",
    "\n",
    "        ax[0].pcolor(xArr,yArr,rt[:,:, ii], cmap= 'gray')\n",
    "        ax[0].set_aspect('equal')\n",
    "        ax[0].set_xlabel('x')\n",
    "        ax[0].set_ylabel('y')\n",
    "        ax[0].set_title('Real space signal, t = {time:0.2f}'.format(time=dt*ii))\n",
    "\n",
    "        ax[1].pcolor(qx, qy, qwPower[:,:,ii], cmap = 'gray')\n",
    "        ax[1].set_aspect('equal')\n",
    "        ax[1].set_xlabel('$q_x$')\n",
    "        ax[1].set_ylabel('$q_y$')\n",
    "        ax[1].set_title('Fourier space signal, $\\omega =${w:0.2f}'.format(w=ww[ii]))\n",
    "\n",
    "        fig.subplots_adjust(wspace = 0.3)\n",
    "        fig.suptitle('$f(r,t) = \\sin ($' + str(k0) + 'r + ' + str(w0) + 't)')\n",
    "        \n",
    "        fig.savefig(os.path.join(savepath,'frames','frame_'+str(ii)+'.png'),format='png')\n",
    "        plt.close(fig)"
   ]
  },
  {
   "cell_type": "markdown",
   "metadata": {},
   "source": [
    "First let's take a look at what we're analyzing"
   ]
  },
  {
   "cell_type": "code",
   "execution_count": null,
   "metadata": {
    "collapsed": false,
    "scrolled": true
   },
   "outputs": [],
   "source": [
    "qwPowerRadialAvg = sqw.azimuthal_average_3D(qwPower,\n",
    "                                            tdim=2,\n",
    "                                           center=None,\n",
    "                                           binsize=1.0,\n",
    "                                           mask=None,\n",
    "                                           weight=None)\n",
    "[nw, nqr] = qwPowerRadialAvg.shape\n",
    "#qr = np.fft.fftfreq(2*nqr, np.sqrt(dx**2+dy**2))"
   ]
  },
  {
   "cell_type": "code",
   "execution_count": null,
   "metadata": {
    "collapsed": true
   },
   "outputs": [],
   "source": [
    "savestuff=0"
   ]
  },
  {
   "cell_type": "code",
   "execution_count": null,
   "metadata": {
    "collapsed": false,
    "scrolled": false
   },
   "outputs": [],
   "source": [
    "qxOneSided = np.fft.ifftshift(qx)[:int(np.floor(qx.size/2))]\n",
    "wwOneSided = np.fft.ifftshift(ww)[:int(np.floor(ww.size/2))]\n",
    "\n",
    "fig2, ax2 = plt.subplots(1,1)\n",
    "oneSidedPower = qwPowerRadialAvg[25:-1,:]\n",
    "\n",
    "sphericalSQW = ax2.pcolor(qxOneSided,wwOneSided,\n",
    "                          oneSidedPower[:wwOneSided.size, :qxOneSided.size],\n",
    "                          cmap='inferno')\n",
    "ax2.set_xlabel('|q|')\n",
    "ax2.set_ylabel('$\\omega$')\n",
    "ax2.set_title('$S(q,\\omega)$ of $f(r,t) = \\sin ($' + str(k0) + 'r + ' + str(w0) + 't) + $\\sin($' + str(k1) + 'r + ' + str(w1) + 't)')\n",
    "\n",
    "cbar = fig2.colorbar(sphericalSQW, extend='max')\n",
    "\n",
    "if savestuff:\n",
    "    fig2.savefig('sqw_sphericalWave.tif',format='tif')\n",
    "    fig2.savefig('sqw_sphericalWave.eps',format='eps')\n",
    "#     fig2.savefig('sqw_offset.tif',format='tif')\n",
    "#     fig2.savefig('sqw_offset.eps',format='eps')"
   ]
  },
  {
   "cell_type": "markdown",
   "metadata": {},
   "source": [
    "Okay, overall seems good. I'm a little unclear as to why the spatial component is smeared out a bit...\n",
    "\n",
    "Update 7/11/2017: It's smeared out due to edge/corner effects, where the signal can't be described by a pure sine wave.\n",
    "\n",
    "The single peak really gives the wave speeds here too, using a linear dispersion relation: $\\omega = v q$"
   ]
  },
  {
   "cell_type": "markdown",
   "metadata": {},
   "source": [
    "Normalize by $S(q)$ and look at $S(q,\\omega)/S(q)$ to show it removes the signal along $q$"
   ]
  },
  {
   "cell_type": "code",
   "execution_count": null,
   "metadata": {
    "collapsed": false,
    "scrolled": false
   },
   "outputs": [],
   "source": [
    "sofcue = integrate.trapz(qwPowerRadialAvg, ww, axis=0)\n",
    "\n",
    "normed = qwPowerRadialAvg/sofcue[:,None].T\n",
    "\n",
    "fig, ax = plt.subplots()\n",
    "ax.pcolor(qx[:72], ww, normed)\n"
   ]
  },
  {
   "cell_type": "code",
   "execution_count": null,
   "metadata": {
    "collapsed": false
   },
   "outputs": [],
   "source": [
    "qwPowerRadialAvg.shape"
   ]
  },
  {
   "cell_type": "code",
   "execution_count": null,
   "metadata": {
    "collapsed": true
   },
   "outputs": [],
   "source": []
  }
 ],
 "metadata": {
  "kernelspec": {
   "display_name": "Python 3",
   "language": "python",
   "name": "python3"
  },
  "language_info": {
   "codemirror_mode": {
    "name": "ipython",
    "version": 3
   },
   "file_extension": ".py",
   "mimetype": "text/x-python",
   "name": "python",
   "nbconvert_exporter": "python",
   "pygments_lexer": "ipython3",
   "version": "3.6.0"
  }
 },
 "nbformat": 4,
 "nbformat_minor": 2
}
